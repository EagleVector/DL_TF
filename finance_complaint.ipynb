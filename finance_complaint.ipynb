{
 "cells": [
  {
   "cell_type": "code",
   "execution_count": 13,
   "id": "d37cf9f1",
   "metadata": {},
   "outputs": [],
   "source": [
    "import pandas as pd"
   ]
  },
  {
   "cell_type": "code",
   "execution_count": 14,
   "id": "1223c9b5",
   "metadata": {},
   "outputs": [
    {
     "data": {
      "text/html": [
       "<div>\n",
       "<style scoped>\n",
       "    .dataframe tbody tr th:only-of-type {\n",
       "        vertical-align: middle;\n",
       "    }\n",
       "\n",
       "    .dataframe tbody tr th {\n",
       "        vertical-align: top;\n",
       "    }\n",
       "\n",
       "    .dataframe thead th {\n",
       "        text-align: right;\n",
       "    }\n",
       "</style>\n",
       "<table border=\"1\" class=\"dataframe\">\n",
       "  <thead>\n",
       "    <tr style=\"text-align: right;\">\n",
       "      <th></th>\n",
       "      <th>_index</th>\n",
       "      <th>_type</th>\n",
       "      <th>_id</th>\n",
       "      <th>_score</th>\n",
       "      <th>_source</th>\n",
       "      <th>sort</th>\n",
       "    </tr>\n",
       "  </thead>\n",
       "  <tbody>\n",
       "    <tr>\n",
       "      <th>0</th>\n",
       "      <td>complaint-public-v2</td>\n",
       "      <td>_doc</td>\n",
       "      <td>6162140</td>\n",
       "      <td>NaN</td>\n",
       "      <td>{'product': 'Credit reporting, credit repair s...</td>\n",
       "      <td>[19236]</td>\n",
       "    </tr>\n",
       "    <tr>\n",
       "      <th>1</th>\n",
       "      <td>complaint-public-v2</td>\n",
       "      <td>_doc</td>\n",
       "      <td>6150232</td>\n",
       "      <td>NaN</td>\n",
       "      <td>{'product': 'Credit reporting, credit repair s...</td>\n",
       "      <td>[19616]</td>\n",
       "    </tr>\n",
       "    <tr>\n",
       "      <th>2</th>\n",
       "      <td>complaint-public-v2</td>\n",
       "      <td>_doc</td>\n",
       "      <td>6187000</td>\n",
       "      <td>NaN</td>\n",
       "      <td>{'product': 'Credit reporting, credit repair s...</td>\n",
       "      <td>[22325]</td>\n",
       "    </tr>\n",
       "    <tr>\n",
       "      <th>3</th>\n",
       "      <td>complaint-public-v2</td>\n",
       "      <td>_doc</td>\n",
       "      <td>6152964</td>\n",
       "      <td>NaN</td>\n",
       "      <td>{'product': 'Credit reporting, credit repair s...</td>\n",
       "      <td>[22383]</td>\n",
       "    </tr>\n",
       "    <tr>\n",
       "      <th>4</th>\n",
       "      <td>complaint-public-v2</td>\n",
       "      <td>_doc</td>\n",
       "      <td>6161488</td>\n",
       "      <td>NaN</td>\n",
       "      <td>{'product': 'Checking or savings account', 'co...</td>\n",
       "      <td>[22389]</td>\n",
       "    </tr>\n",
       "  </tbody>\n",
       "</table>\n",
       "</div>"
      ],
      "text/plain": [
       "                _index _type      _id  _score  \\\n",
       "0  complaint-public-v2  _doc  6162140     NaN   \n",
       "1  complaint-public-v2  _doc  6150232     NaN   \n",
       "2  complaint-public-v2  _doc  6187000     NaN   \n",
       "3  complaint-public-v2  _doc  6152964     NaN   \n",
       "4  complaint-public-v2  _doc  6161488     NaN   \n",
       "\n",
       "                                             _source     sort  \n",
       "0  {'product': 'Credit reporting, credit repair s...  [19236]  \n",
       "1  {'product': 'Credit reporting, credit repair s...  [19616]  \n",
       "2  {'product': 'Credit reporting, credit repair s...  [22325]  \n",
       "3  {'product': 'Credit reporting, credit repair s...  [22383]  \n",
       "4  {'product': 'Checking or savings account', 'co...  [22389]  "
      ]
     },
     "execution_count": 14,
     "metadata": {},
     "output_type": "execute_result"
    }
   ],
   "source": [
    "df = pd.read_json('fin.json')\n",
    "df.head()"
   ]
  },
  {
   "cell_type": "code",
   "execution_count": 27,
   "id": "503dd475",
   "metadata": {},
   "outputs": [],
   "source": [
    "interval = pd.date_range(start=\"2022-12-12\", \n",
    "              end=\"2023-05-10\", freq=\"M\").astype('str').tolist()"
   ]
  },
  {
   "cell_type": "code",
   "execution_count": 28,
   "id": "6a0e45cc",
   "metadata": {},
   "outputs": [
    {
     "name": "stdout",
     "output_type": "stream",
     "text": [
      "2022-12-31 2023-01-31\n",
      "2023-01-31 2023-02-28\n",
      "2023-02-28 2023-03-31\n",
      "2023-03-31 2023-04-30\n"
     ]
    }
   ],
   "source": [
    "for index in range(1, len(interval)):\n",
    "    print(interval[index-1], interval[index])"
   ]
  },
  {
   "cell_type": "code",
   "execution_count": null,
   "id": "7a182df2",
   "metadata": {},
   "outputs": [],
   "source": []
  }
 ],
 "metadata": {
  "kernelspec": {
   "display_name": "Python 3 (ipykernel)",
   "language": "python",
   "name": "python3"
  },
  "language_info": {
   "codemirror_mode": {
    "name": "ipython",
    "version": 3
   },
   "file_extension": ".py",
   "mimetype": "text/x-python",
   "name": "python",
   "nbconvert_exporter": "python",
   "pygments_lexer": "ipython3",
   "version": "3.8.14"
  }
 },
 "nbformat": 4,
 "nbformat_minor": 5
}
