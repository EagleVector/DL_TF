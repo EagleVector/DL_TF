{
 "cells": [
  {
   "cell_type": "code",
   "execution_count": 1,
   "id": "a91f499d",
   "metadata": {},
   "outputs": [],
   "source": [
    "import numpy as np\n",
    "import pandas as pd\n",
    "import matplotlib.pyplot as plt\n",
    "import seaborn as sns"
   ]
  },
  {
   "cell_type": "code",
   "execution_count": 2,
   "id": "017ebab2",
   "metadata": {},
   "outputs": [
    {
     "data": {
      "text/html": [
       "<div>\n",
       "<style scoped>\n",
       "    .dataframe tbody tr th:only-of-type {\n",
       "        vertical-align: middle;\n",
       "    }\n",
       "\n",
       "    .dataframe tbody tr th {\n",
       "        vertical-align: top;\n",
       "    }\n",
       "\n",
       "    .dataframe thead th {\n",
       "        text-align: right;\n",
       "    }\n",
       "</style>\n",
       "<table border=\"1\" class=\"dataframe\">\n",
       "  <thead>\n",
       "    <tr style=\"text-align: right;\">\n",
       "      <th></th>\n",
       "      <th>0</th>\n",
       "      <th>1</th>\n",
       "      <th>2</th>\n",
       "      <th>3</th>\n",
       "      <th>4</th>\n",
       "      <th>5</th>\n",
       "      <th>6</th>\n",
       "      <th>7</th>\n",
       "      <th>8</th>\n",
       "      <th>9</th>\n",
       "      <th>...</th>\n",
       "      <th>51</th>\n",
       "      <th>52</th>\n",
       "      <th>53</th>\n",
       "      <th>54</th>\n",
       "      <th>55</th>\n",
       "      <th>56</th>\n",
       "      <th>57</th>\n",
       "      <th>58</th>\n",
       "      <th>59</th>\n",
       "      <th>60</th>\n",
       "    </tr>\n",
       "  </thead>\n",
       "  <tbody>\n",
       "    <tr>\n",
       "      <th>113</th>\n",
       "      <td>0.0283</td>\n",
       "      <td>0.0599</td>\n",
       "      <td>0.0656</td>\n",
       "      <td>0.0229</td>\n",
       "      <td>0.0839</td>\n",
       "      <td>0.1673</td>\n",
       "      <td>0.1154</td>\n",
       "      <td>0.1098</td>\n",
       "      <td>0.1370</td>\n",
       "      <td>0.1767</td>\n",
       "      <td>...</td>\n",
       "      <td>0.0147</td>\n",
       "      <td>0.0170</td>\n",
       "      <td>0.0158</td>\n",
       "      <td>0.0046</td>\n",
       "      <td>0.0073</td>\n",
       "      <td>0.0054</td>\n",
       "      <td>0.0033</td>\n",
       "      <td>0.0045</td>\n",
       "      <td>0.0079</td>\n",
       "      <td>M</td>\n",
       "    </tr>\n",
       "    <tr>\n",
       "      <th>20</th>\n",
       "      <td>0.0473</td>\n",
       "      <td>0.0509</td>\n",
       "      <td>0.0819</td>\n",
       "      <td>0.1252</td>\n",
       "      <td>0.1783</td>\n",
       "      <td>0.3070</td>\n",
       "      <td>0.3008</td>\n",
       "      <td>0.2362</td>\n",
       "      <td>0.3830</td>\n",
       "      <td>0.3759</td>\n",
       "      <td>...</td>\n",
       "      <td>0.0193</td>\n",
       "      <td>0.0118</td>\n",
       "      <td>0.0064</td>\n",
       "      <td>0.0042</td>\n",
       "      <td>0.0054</td>\n",
       "      <td>0.0049</td>\n",
       "      <td>0.0082</td>\n",
       "      <td>0.0028</td>\n",
       "      <td>0.0027</td>\n",
       "      <td>R</td>\n",
       "    </tr>\n",
       "    <tr>\n",
       "      <th>141</th>\n",
       "      <td>0.0707</td>\n",
       "      <td>0.1252</td>\n",
       "      <td>0.1447</td>\n",
       "      <td>0.1644</td>\n",
       "      <td>0.1693</td>\n",
       "      <td>0.0844</td>\n",
       "      <td>0.0715</td>\n",
       "      <td>0.0947</td>\n",
       "      <td>0.1583</td>\n",
       "      <td>0.1247</td>\n",
       "      <td>...</td>\n",
       "      <td>0.0156</td>\n",
       "      <td>0.0197</td>\n",
       "      <td>0.0135</td>\n",
       "      <td>0.0127</td>\n",
       "      <td>0.0138</td>\n",
       "      <td>0.0133</td>\n",
       "      <td>0.0131</td>\n",
       "      <td>0.0154</td>\n",
       "      <td>0.0218</td>\n",
       "      <td>M</td>\n",
       "    </tr>\n",
       "    <tr>\n",
       "      <th>139</th>\n",
       "      <td>0.0164</td>\n",
       "      <td>0.0627</td>\n",
       "      <td>0.0738</td>\n",
       "      <td>0.0608</td>\n",
       "      <td>0.0233</td>\n",
       "      <td>0.1048</td>\n",
       "      <td>0.1338</td>\n",
       "      <td>0.0644</td>\n",
       "      <td>0.1522</td>\n",
       "      <td>0.0780</td>\n",
       "      <td>...</td>\n",
       "      <td>0.0258</td>\n",
       "      <td>0.0143</td>\n",
       "      <td>0.0226</td>\n",
       "      <td>0.0187</td>\n",
       "      <td>0.0185</td>\n",
       "      <td>0.0110</td>\n",
       "      <td>0.0094</td>\n",
       "      <td>0.0078</td>\n",
       "      <td>0.0112</td>\n",
       "      <td>M</td>\n",
       "    </tr>\n",
       "    <tr>\n",
       "      <th>92</th>\n",
       "      <td>0.0260</td>\n",
       "      <td>0.0192</td>\n",
       "      <td>0.0254</td>\n",
       "      <td>0.0061</td>\n",
       "      <td>0.0352</td>\n",
       "      <td>0.0701</td>\n",
       "      <td>0.1263</td>\n",
       "      <td>0.1080</td>\n",
       "      <td>0.1523</td>\n",
       "      <td>0.1630</td>\n",
       "      <td>...</td>\n",
       "      <td>0.0118</td>\n",
       "      <td>0.0120</td>\n",
       "      <td>0.0051</td>\n",
       "      <td>0.0070</td>\n",
       "      <td>0.0015</td>\n",
       "      <td>0.0035</td>\n",
       "      <td>0.0008</td>\n",
       "      <td>0.0044</td>\n",
       "      <td>0.0077</td>\n",
       "      <td>R</td>\n",
       "    </tr>\n",
       "  </tbody>\n",
       "</table>\n",
       "<p>5 rows × 61 columns</p>\n",
       "</div>"
      ],
      "text/plain": [
       "         0       1       2       3       4       5       6       7       8   \\\n",
       "113  0.0283  0.0599  0.0656  0.0229  0.0839  0.1673  0.1154  0.1098  0.1370   \n",
       "20   0.0473  0.0509  0.0819  0.1252  0.1783  0.3070  0.3008  0.2362  0.3830   \n",
       "141  0.0707  0.1252  0.1447  0.1644  0.1693  0.0844  0.0715  0.0947  0.1583   \n",
       "139  0.0164  0.0627  0.0738  0.0608  0.0233  0.1048  0.1338  0.0644  0.1522   \n",
       "92   0.0260  0.0192  0.0254  0.0061  0.0352  0.0701  0.1263  0.1080  0.1523   \n",
       "\n",
       "         9   ...      51      52      53      54      55      56      57  \\\n",
       "113  0.1767  ...  0.0147  0.0170  0.0158  0.0046  0.0073  0.0054  0.0033   \n",
       "20   0.3759  ...  0.0193  0.0118  0.0064  0.0042  0.0054  0.0049  0.0082   \n",
       "141  0.1247  ...  0.0156  0.0197  0.0135  0.0127  0.0138  0.0133  0.0131   \n",
       "139  0.0780  ...  0.0258  0.0143  0.0226  0.0187  0.0185  0.0110  0.0094   \n",
       "92   0.1630  ...  0.0118  0.0120  0.0051  0.0070  0.0015  0.0035  0.0008   \n",
       "\n",
       "         58      59  60  \n",
       "113  0.0045  0.0079   M  \n",
       "20   0.0028  0.0027   R  \n",
       "141  0.0154  0.0218   M  \n",
       "139  0.0078  0.0112   M  \n",
       "92   0.0044  0.0077   R  \n",
       "\n",
       "[5 rows x 61 columns]"
      ]
     },
     "execution_count": 2,
     "metadata": {},
     "output_type": "execute_result"
    }
   ],
   "source": [
    "import warnings\n",
    "warnings.filterwarnings('ignore')\n",
    "\n",
    "df = pd.read_csv('sonar.csv', header=None)\n",
    "df.sample(5)"
   ]
  },
  {
   "cell_type": "code",
   "execution_count": 3,
   "id": "d895ad97",
   "metadata": {},
   "outputs": [
    {
     "data": {
      "text/plain": [
       "(208, 61)"
      ]
     },
     "execution_count": 3,
     "metadata": {},
     "output_type": "execute_result"
    }
   ],
   "source": [
    "df.shape"
   ]
  },
  {
   "cell_type": "code",
   "execution_count": 4,
   "id": "f7f48fe0",
   "metadata": {},
   "outputs": [
    {
     "data": {
      "text/plain": [
       "0     0\n",
       "1     0\n",
       "2     0\n",
       "3     0\n",
       "4     0\n",
       "     ..\n",
       "56    0\n",
       "57    0\n",
       "58    0\n",
       "59    0\n",
       "60    0\n",
       "Length: 61, dtype: int64"
      ]
     },
     "execution_count": 4,
     "metadata": {},
     "output_type": "execute_result"
    }
   ],
   "source": [
    "df.isna().sum()"
   ]
  },
  {
   "cell_type": "code",
   "execution_count": 5,
   "id": "92da5367",
   "metadata": {},
   "outputs": [
    {
     "data": {
      "text/plain": [
       "Int64Index([ 0,  1,  2,  3,  4,  5,  6,  7,  8,  9, 10, 11, 12, 13, 14, 15, 16,\n",
       "            17, 18, 19, 20, 21, 22, 23, 24, 25, 26, 27, 28, 29, 30, 31, 32, 33,\n",
       "            34, 35, 36, 37, 38, 39, 40, 41, 42, 43, 44, 45, 46, 47, 48, 49, 50,\n",
       "            51, 52, 53, 54, 55, 56, 57, 58, 59, 60],\n",
       "           dtype='int64')"
      ]
     },
     "execution_count": 5,
     "metadata": {},
     "output_type": "execute_result"
    }
   ],
   "source": [
    "df.columns"
   ]
  },
  {
   "cell_type": "code",
   "execution_count": 6,
   "id": "b9f4372a",
   "metadata": {},
   "outputs": [
    {
     "data": {
      "text/plain": [
       "M    111\n",
       "R     97\n",
       "Name: 60, dtype: int64"
      ]
     },
     "execution_count": 6,
     "metadata": {},
     "output_type": "execute_result"
    }
   ],
   "source": [
    "df[60].value_counts()"
   ]
  },
  {
   "cell_type": "code",
   "execution_count": 7,
   "id": "cd212a10",
   "metadata": {},
   "outputs": [],
   "source": [
    "X = df.drop(60, axis='columns')"
   ]
  },
  {
   "cell_type": "code",
   "execution_count": 8,
   "id": "becfc29f",
   "metadata": {},
   "outputs": [],
   "source": [
    "y = df[60]"
   ]
  },
  {
   "cell_type": "code",
   "execution_count": 9,
   "id": "21be14e8",
   "metadata": {},
   "outputs": [
    {
     "data": {
      "text/html": [
       "<div>\n",
       "<style scoped>\n",
       "    .dataframe tbody tr th:only-of-type {\n",
       "        vertical-align: middle;\n",
       "    }\n",
       "\n",
       "    .dataframe tbody tr th {\n",
       "        vertical-align: top;\n",
       "    }\n",
       "\n",
       "    .dataframe thead th {\n",
       "        text-align: right;\n",
       "    }\n",
       "</style>\n",
       "<table border=\"1\" class=\"dataframe\">\n",
       "  <thead>\n",
       "    <tr style=\"text-align: right;\">\n",
       "      <th></th>\n",
       "      <th>0</th>\n",
       "      <th>1</th>\n",
       "      <th>2</th>\n",
       "      <th>3</th>\n",
       "      <th>4</th>\n",
       "      <th>5</th>\n",
       "      <th>6</th>\n",
       "      <th>7</th>\n",
       "      <th>8</th>\n",
       "      <th>9</th>\n",
       "      <th>...</th>\n",
       "      <th>50</th>\n",
       "      <th>51</th>\n",
       "      <th>52</th>\n",
       "      <th>53</th>\n",
       "      <th>54</th>\n",
       "      <th>55</th>\n",
       "      <th>56</th>\n",
       "      <th>57</th>\n",
       "      <th>58</th>\n",
       "      <th>59</th>\n",
       "    </tr>\n",
       "  </thead>\n",
       "  <tbody>\n",
       "    <tr>\n",
       "      <th>39</th>\n",
       "      <td>0.0091</td>\n",
       "      <td>0.0213</td>\n",
       "      <td>0.0206</td>\n",
       "      <td>0.0505</td>\n",
       "      <td>0.0657</td>\n",
       "      <td>0.0795</td>\n",
       "      <td>0.0970</td>\n",
       "      <td>0.0872</td>\n",
       "      <td>0.0743</td>\n",
       "      <td>0.0837</td>\n",
       "      <td>...</td>\n",
       "      <td>0.0300</td>\n",
       "      <td>0.0112</td>\n",
       "      <td>0.0112</td>\n",
       "      <td>0.0102</td>\n",
       "      <td>0.0026</td>\n",
       "      <td>0.0097</td>\n",
       "      <td>0.0098</td>\n",
       "      <td>0.0043</td>\n",
       "      <td>0.0071</td>\n",
       "      <td>0.0108</td>\n",
       "    </tr>\n",
       "    <tr>\n",
       "      <th>114</th>\n",
       "      <td>0.0114</td>\n",
       "      <td>0.0222</td>\n",
       "      <td>0.0269</td>\n",
       "      <td>0.0384</td>\n",
       "      <td>0.1217</td>\n",
       "      <td>0.2062</td>\n",
       "      <td>0.1489</td>\n",
       "      <td>0.0929</td>\n",
       "      <td>0.1350</td>\n",
       "      <td>0.1799</td>\n",
       "      <td>...</td>\n",
       "      <td>0.0213</td>\n",
       "      <td>0.0269</td>\n",
       "      <td>0.0152</td>\n",
       "      <td>0.0257</td>\n",
       "      <td>0.0097</td>\n",
       "      <td>0.0041</td>\n",
       "      <td>0.0050</td>\n",
       "      <td>0.0145</td>\n",
       "      <td>0.0103</td>\n",
       "      <td>0.0025</td>\n",
       "    </tr>\n",
       "    <tr>\n",
       "      <th>187</th>\n",
       "      <td>0.0368</td>\n",
       "      <td>0.0279</td>\n",
       "      <td>0.0103</td>\n",
       "      <td>0.0566</td>\n",
       "      <td>0.0759</td>\n",
       "      <td>0.0679</td>\n",
       "      <td>0.0970</td>\n",
       "      <td>0.1473</td>\n",
       "      <td>0.2164</td>\n",
       "      <td>0.2544</td>\n",
       "      <td>...</td>\n",
       "      <td>0.0151</td>\n",
       "      <td>0.0105</td>\n",
       "      <td>0.0024</td>\n",
       "      <td>0.0018</td>\n",
       "      <td>0.0057</td>\n",
       "      <td>0.0092</td>\n",
       "      <td>0.0009</td>\n",
       "      <td>0.0086</td>\n",
       "      <td>0.0110</td>\n",
       "      <td>0.0052</td>\n",
       "    </tr>\n",
       "    <tr>\n",
       "      <th>95</th>\n",
       "      <td>0.0291</td>\n",
       "      <td>0.0400</td>\n",
       "      <td>0.0771</td>\n",
       "      <td>0.0809</td>\n",
       "      <td>0.0521</td>\n",
       "      <td>0.1051</td>\n",
       "      <td>0.0145</td>\n",
       "      <td>0.0674</td>\n",
       "      <td>0.1294</td>\n",
       "      <td>0.1146</td>\n",
       "      <td>...</td>\n",
       "      <td>0.0000</td>\n",
       "      <td>0.0056</td>\n",
       "      <td>0.0237</td>\n",
       "      <td>0.0204</td>\n",
       "      <td>0.0050</td>\n",
       "      <td>0.0137</td>\n",
       "      <td>0.0164</td>\n",
       "      <td>0.0081</td>\n",
       "      <td>0.0139</td>\n",
       "      <td>0.0111</td>\n",
       "    </tr>\n",
       "    <tr>\n",
       "      <th>176</th>\n",
       "      <td>0.0635</td>\n",
       "      <td>0.0709</td>\n",
       "      <td>0.0453</td>\n",
       "      <td>0.0333</td>\n",
       "      <td>0.0185</td>\n",
       "      <td>0.1260</td>\n",
       "      <td>0.1015</td>\n",
       "      <td>0.1918</td>\n",
       "      <td>0.3362</td>\n",
       "      <td>0.3900</td>\n",
       "      <td>...</td>\n",
       "      <td>0.0154</td>\n",
       "      <td>0.0048</td>\n",
       "      <td>0.0025</td>\n",
       "      <td>0.0087</td>\n",
       "      <td>0.0072</td>\n",
       "      <td>0.0095</td>\n",
       "      <td>0.0086</td>\n",
       "      <td>0.0085</td>\n",
       "      <td>0.0040</td>\n",
       "      <td>0.0051</td>\n",
       "    </tr>\n",
       "  </tbody>\n",
       "</table>\n",
       "<p>5 rows × 60 columns</p>\n",
       "</div>"
      ],
      "text/plain": [
       "         0       1       2       3       4       5       6       7       8   \\\n",
       "39   0.0091  0.0213  0.0206  0.0505  0.0657  0.0795  0.0970  0.0872  0.0743   \n",
       "114  0.0114  0.0222  0.0269  0.0384  0.1217  0.2062  0.1489  0.0929  0.1350   \n",
       "187  0.0368  0.0279  0.0103  0.0566  0.0759  0.0679  0.0970  0.1473  0.2164   \n",
       "95   0.0291  0.0400  0.0771  0.0809  0.0521  0.1051  0.0145  0.0674  0.1294   \n",
       "176  0.0635  0.0709  0.0453  0.0333  0.0185  0.1260  0.1015  0.1918  0.3362   \n",
       "\n",
       "         9   ...      50      51      52      53      54      55      56  \\\n",
       "39   0.0837  ...  0.0300  0.0112  0.0112  0.0102  0.0026  0.0097  0.0098   \n",
       "114  0.1799  ...  0.0213  0.0269  0.0152  0.0257  0.0097  0.0041  0.0050   \n",
       "187  0.2544  ...  0.0151  0.0105  0.0024  0.0018  0.0057  0.0092  0.0009   \n",
       "95   0.1146  ...  0.0000  0.0056  0.0237  0.0204  0.0050  0.0137  0.0164   \n",
       "176  0.3900  ...  0.0154  0.0048  0.0025  0.0087  0.0072  0.0095  0.0086   \n",
       "\n",
       "         57      58      59  \n",
       "39   0.0043  0.0071  0.0108  \n",
       "114  0.0145  0.0103  0.0025  \n",
       "187  0.0086  0.0110  0.0052  \n",
       "95   0.0081  0.0139  0.0111  \n",
       "176  0.0085  0.0040  0.0051  \n",
       "\n",
       "[5 rows x 60 columns]"
      ]
     },
     "execution_count": 9,
     "metadata": {},
     "output_type": "execute_result"
    }
   ],
   "source": [
    "X.sample(5)"
   ]
  },
  {
   "cell_type": "code",
   "execution_count": 10,
   "id": "099ab70d",
   "metadata": {},
   "outputs": [
    {
     "data": {
      "text/plain": [
       "170    M\n",
       "178    M\n",
       "31     R\n",
       "83     R\n",
       "199    M\n",
       "Name: 60, dtype: object"
      ]
     },
     "execution_count": 10,
     "metadata": {},
     "output_type": "execute_result"
    }
   ],
   "source": [
    "y.sample(5)"
   ]
  },
  {
   "cell_type": "code",
   "execution_count": 11,
   "id": "0f9028ef",
   "metadata": {},
   "outputs": [
    {
     "data": {
      "text/html": [
       "<div>\n",
       "<style scoped>\n",
       "    .dataframe tbody tr th:only-of-type {\n",
       "        vertical-align: middle;\n",
       "    }\n",
       "\n",
       "    .dataframe tbody tr th {\n",
       "        vertical-align: top;\n",
       "    }\n",
       "\n",
       "    .dataframe thead th {\n",
       "        text-align: right;\n",
       "    }\n",
       "</style>\n",
       "<table border=\"1\" class=\"dataframe\">\n",
       "  <thead>\n",
       "    <tr style=\"text-align: right;\">\n",
       "      <th></th>\n",
       "      <th>R</th>\n",
       "    </tr>\n",
       "  </thead>\n",
       "  <tbody>\n",
       "    <tr>\n",
       "      <th>106</th>\n",
       "      <td>0</td>\n",
       "    </tr>\n",
       "    <tr>\n",
       "      <th>42</th>\n",
       "      <td>1</td>\n",
       "    </tr>\n",
       "    <tr>\n",
       "      <th>144</th>\n",
       "      <td>0</td>\n",
       "    </tr>\n",
       "    <tr>\n",
       "      <th>15</th>\n",
       "      <td>1</td>\n",
       "    </tr>\n",
       "    <tr>\n",
       "      <th>62</th>\n",
       "      <td>1</td>\n",
       "    </tr>\n",
       "  </tbody>\n",
       "</table>\n",
       "</div>"
      ],
      "text/plain": [
       "     R\n",
       "106  0\n",
       "42   1\n",
       "144  0\n",
       "15   1\n",
       "62   1"
      ]
     },
     "execution_count": 11,
     "metadata": {},
     "output_type": "execute_result"
    }
   ],
   "source": [
    "y = pd.get_dummies(y, drop_first=True)\n",
    "y.sample(5)"
   ]
  },
  {
   "cell_type": "code",
   "execution_count": 12,
   "id": "1563725b",
   "metadata": {},
   "outputs": [
    {
     "data": {
      "text/html": [
       "<div>\n",
       "<style scoped>\n",
       "    .dataframe tbody tr th:only-of-type {\n",
       "        vertical-align: middle;\n",
       "    }\n",
       "\n",
       "    .dataframe tbody tr th {\n",
       "        vertical-align: top;\n",
       "    }\n",
       "\n",
       "    .dataframe thead th {\n",
       "        text-align: right;\n",
       "    }\n",
       "</style>\n",
       "<table border=\"1\" class=\"dataframe\">\n",
       "  <thead>\n",
       "    <tr style=\"text-align: right;\">\n",
       "      <th></th>\n",
       "      <th>R</th>\n",
       "    </tr>\n",
       "  </thead>\n",
       "  <tbody>\n",
       "    <tr>\n",
       "      <th>121</th>\n",
       "      <td>0</td>\n",
       "    </tr>\n",
       "    <tr>\n",
       "      <th>111</th>\n",
       "      <td>0</td>\n",
       "    </tr>\n",
       "    <tr>\n",
       "      <th>186</th>\n",
       "      <td>0</td>\n",
       "    </tr>\n",
       "    <tr>\n",
       "      <th>107</th>\n",
       "      <td>0</td>\n",
       "    </tr>\n",
       "    <tr>\n",
       "      <th>166</th>\n",
       "      <td>0</td>\n",
       "    </tr>\n",
       "  </tbody>\n",
       "</table>\n",
       "</div>"
      ],
      "text/plain": [
       "     R\n",
       "121  0\n",
       "111  0\n",
       "186  0\n",
       "107  0\n",
       "166  0"
      ]
     },
     "execution_count": 12,
     "metadata": {},
     "output_type": "execute_result"
    }
   ],
   "source": [
    "y.sample(5)"
   ]
  },
  {
   "cell_type": "code",
   "execution_count": 13,
   "id": "2614d250",
   "metadata": {},
   "outputs": [],
   "source": [
    "from sklearn.model_selection import train_test_split\n",
    "X_train, X_test, y_train, y_test = train_test_split(X, y, test_size = 0.20, random_state = 7)"
   ]
  },
  {
   "cell_type": "code",
   "execution_count": 14,
   "id": "ca2847a6",
   "metadata": {},
   "outputs": [
    {
     "data": {
      "text/plain": [
       "(166, 60)"
      ]
     },
     "execution_count": 14,
     "metadata": {},
     "output_type": "execute_result"
    }
   ],
   "source": [
    "X_train.shape"
   ]
  },
  {
   "cell_type": "code",
   "execution_count": 15,
   "id": "93e13834",
   "metadata": {},
   "outputs": [
    {
     "data": {
      "text/plain": [
       "(42, 60)"
      ]
     },
     "execution_count": 15,
     "metadata": {},
     "output_type": "execute_result"
    }
   ],
   "source": [
    "X_test.shape"
   ]
  },
  {
   "cell_type": "code",
   "execution_count": 16,
   "id": "4cdf04d6",
   "metadata": {},
   "outputs": [],
   "source": [
    "import tensorflow as tf\n",
    "from tensorflow import keras"
   ]
  },
  {
   "cell_type": "markdown",
   "id": "2a43a61f",
   "metadata": {},
   "source": [
    "We have introduced 3 hidden dense layers. Certainly the model will try to overfit on the training dataset as we run multiple epoch."
   ]
  },
  {
   "cell_type": "code",
   "execution_count": 17,
   "id": "0b589e74",
   "metadata": {},
   "outputs": [
    {
     "name": "stdout",
     "output_type": "stream",
     "text": [
      "Metal device set to: Apple M1\n",
      "Epoch 1/50\n"
     ]
    },
    {
     "name": "stderr",
     "output_type": "stream",
     "text": [
      "2022-12-07 17:55:06.764805: I tensorflow/core/common_runtime/pluggable_device/pluggable_device_factory.cc:306] Could not identify NUMA node of platform GPU ID 0, defaulting to 0. Your kernel may not have been built with NUMA support.\n",
      "2022-12-07 17:55:06.764892: I tensorflow/core/common_runtime/pluggable_device/pluggable_device_factory.cc:272] Created TensorFlow device (/job:localhost/replica:0/task:0/device:GPU:0 with 0 MB memory) -> physical PluggableDevice (device: 0, name: METAL, pci bus id: <undefined>)\n",
      "2022-12-07 17:55:06.901209: W tensorflow/core/platform/profile_utils/cpu_utils.cc:128] Failed to get CPU frequency: 0 Hz\n",
      "2022-12-07 17:55:07.051214: I tensorflow/core/grappler/optimizers/custom_graph_optimizer_registry.cc:114] Plugin optimizer for device_type GPU is enabled.\n"
     ]
    },
    {
     "name": "stdout",
     "output_type": "stream",
     "text": [
      "21/21 [==============================] - 1s 27ms/step - loss: 0.6836 - accuracy: 0.5964\n",
      "Epoch 2/50\n",
      "21/21 [==============================] - 0s 6ms/step - loss: 0.6601 - accuracy: 0.6566\n",
      "Epoch 3/50\n",
      "21/21 [==============================] - 0s 6ms/step - loss: 0.6364 - accuracy: 0.6867\n",
      "Epoch 4/50\n",
      "21/21 [==============================] - 0s 6ms/step - loss: 0.6085 - accuracy: 0.7590\n",
      "Epoch 5/50\n",
      "21/21 [==============================] - 0s 6ms/step - loss: 0.5870 - accuracy: 0.6807\n",
      "Epoch 6/50\n",
      "21/21 [==============================] - 0s 6ms/step - loss: 0.5407 - accuracy: 0.7590\n",
      "Epoch 7/50\n",
      "21/21 [==============================] - 0s 6ms/step - loss: 0.4957 - accuracy: 0.7831\n",
      "Epoch 8/50\n",
      "21/21 [==============================] - 0s 6ms/step - loss: 0.4706 - accuracy: 0.7651\n",
      "Epoch 9/50\n",
      "21/21 [==============================] - 0s 6ms/step - loss: 0.4269 - accuracy: 0.8494\n",
      "Epoch 10/50\n",
      "21/21 [==============================] - 0s 6ms/step - loss: 0.4340 - accuracy: 0.7831\n",
      "Epoch 11/50\n",
      "21/21 [==============================] - 0s 6ms/step - loss: 0.4255 - accuracy: 0.8133\n",
      "Epoch 12/50\n",
      "21/21 [==============================] - 0s 6ms/step - loss: 0.3865 - accuracy: 0.8253\n",
      "Epoch 13/50\n",
      "21/21 [==============================] - 0s 7ms/step - loss: 0.3768 - accuracy: 0.8554\n",
      "Epoch 14/50\n",
      "21/21 [==============================] - 0s 6ms/step - loss: 0.3486 - accuracy: 0.8855\n",
      "Epoch 15/50\n",
      "21/21 [==============================] - 0s 6ms/step - loss: 0.3464 - accuracy: 0.8675\n",
      "Epoch 16/50\n",
      "21/21 [==============================] - 0s 6ms/step - loss: 0.3303 - accuracy: 0.8614\n",
      "Epoch 17/50\n",
      "21/21 [==============================] - 0s 5ms/step - loss: 0.3215 - accuracy: 0.8554\n",
      "Epoch 18/50\n",
      "21/21 [==============================] - 0s 6ms/step - loss: 0.3060 - accuracy: 0.8614\n",
      "Epoch 19/50\n",
      "21/21 [==============================] - 0s 6ms/step - loss: 0.3068 - accuracy: 0.8855\n",
      "Epoch 20/50\n",
      "21/21 [==============================] - 0s 6ms/step - loss: 0.2789 - accuracy: 0.8976\n",
      "Epoch 21/50\n",
      "21/21 [==============================] - 0s 6ms/step - loss: 0.2815 - accuracy: 0.8795\n",
      "Epoch 22/50\n",
      "21/21 [==============================] - 0s 6ms/step - loss: 0.2645 - accuracy: 0.8916\n",
      "Epoch 23/50\n",
      "21/21 [==============================] - 0s 6ms/step - loss: 0.2530 - accuracy: 0.8916\n",
      "Epoch 24/50\n",
      "21/21 [==============================] - 0s 6ms/step - loss: 0.2492 - accuracy: 0.8916\n",
      "Epoch 25/50\n",
      "21/21 [==============================] - 0s 6ms/step - loss: 0.2753 - accuracy: 0.8795\n",
      "Epoch 26/50\n",
      "21/21 [==============================] - 0s 6ms/step - loss: 0.2375 - accuracy: 0.8976\n",
      "Epoch 27/50\n",
      "21/21 [==============================] - 0s 6ms/step - loss: 0.2236 - accuracy: 0.9277\n",
      "Epoch 28/50\n",
      "21/21 [==============================] - 0s 6ms/step - loss: 0.2135 - accuracy: 0.9157\n",
      "Epoch 29/50\n",
      "21/21 [==============================] - 0s 6ms/step - loss: 0.2061 - accuracy: 0.9277\n",
      "Epoch 30/50\n",
      "21/21 [==============================] - 0s 6ms/step - loss: 0.1885 - accuracy: 0.9337\n",
      "Epoch 31/50\n",
      "21/21 [==============================] - 0s 6ms/step - loss: 0.1736 - accuracy: 0.9398\n",
      "Epoch 32/50\n",
      "21/21 [==============================] - 0s 6ms/step - loss: 0.1648 - accuracy: 0.9458\n",
      "Epoch 33/50\n",
      "21/21 [==============================] - 0s 7ms/step - loss: 0.1576 - accuracy: 0.9518\n",
      "Epoch 34/50\n",
      "21/21 [==============================] - 0s 6ms/step - loss: 0.1508 - accuracy: 0.9578\n",
      "Epoch 35/50\n",
      "21/21 [==============================] - 0s 6ms/step - loss: 0.1307 - accuracy: 0.9699\n",
      "Epoch 36/50\n",
      "21/21 [==============================] - 0s 6ms/step - loss: 0.1196 - accuracy: 0.9759\n",
      "Epoch 37/50\n",
      "21/21 [==============================] - 0s 6ms/step - loss: 0.1133 - accuracy: 0.9880\n",
      "Epoch 38/50\n",
      "21/21 [==============================] - 0s 6ms/step - loss: 0.1064 - accuracy: 0.9759\n",
      "Epoch 39/50\n",
      "21/21 [==============================] - 0s 6ms/step - loss: 0.1029 - accuracy: 0.9759\n",
      "Epoch 40/50\n",
      "21/21 [==============================] - 0s 6ms/step - loss: 0.0929 - accuracy: 0.9819\n",
      "Epoch 41/50\n",
      "21/21 [==============================] - 0s 6ms/step - loss: 0.0895 - accuracy: 0.9819\n",
      "Epoch 42/50\n",
      "21/21 [==============================] - 0s 6ms/step - loss: 0.1039 - accuracy: 0.9819\n",
      "Epoch 43/50\n",
      "21/21 [==============================] - 0s 6ms/step - loss: 0.0807 - accuracy: 0.9759\n",
      "Epoch 44/50\n",
      "21/21 [==============================] - 0s 6ms/step - loss: 0.0673 - accuracy: 0.9940\n",
      "Epoch 45/50\n",
      "21/21 [==============================] - 0s 6ms/step - loss: 0.0577 - accuracy: 0.9940\n",
      "Epoch 46/50\n",
      "21/21 [==============================] - 0s 6ms/step - loss: 0.0611 - accuracy: 1.0000\n",
      "Epoch 47/50\n",
      "21/21 [==============================] - 0s 6ms/step - loss: 0.0454 - accuracy: 1.0000\n",
      "Epoch 48/50\n",
      "21/21 [==============================] - 0s 6ms/step - loss: 0.0430 - accuracy: 0.9940\n",
      "Epoch 49/50\n",
      "21/21 [==============================] - 0s 6ms/step - loss: 0.0699 - accuracy: 0.9880\n",
      "Epoch 50/50\n",
      "21/21 [==============================] - 0s 6ms/step - loss: 0.0394 - accuracy: 1.0000\n"
     ]
    },
    {
     "data": {
      "text/plain": [
       "<keras.callbacks.History at 0x168316910>"
      ]
     },
     "execution_count": 17,
     "metadata": {},
     "output_type": "execute_result"
    }
   ],
   "source": [
    "model = keras.Sequential([\n",
    "    keras.layers.Dense(60, input_dim = 60, activation = 'relu'),\n",
    "    keras.layers.Dense(30, activation = 'relu'),\n",
    "    keras.layers.Dense(15, activation = 'relu'),\n",
    "    keras.layers.Dense(1, activation = 'sigmoid'),\n",
    "])\n",
    "\n",
    "model.compile(loss='binary_crossentropy', optimizer='adam', metrics=['accuracy'])\n",
    "\n",
    "model.fit(X_train, y_train, epochs = 50, batch_size=8)"
   ]
  },
  {
   "cell_type": "code",
   "execution_count": 18,
   "id": "1dae8f8d",
   "metadata": {},
   "outputs": [
    {
     "name": "stdout",
     "output_type": "stream",
     "text": [
      "\r",
      "1/2 [==============>...............] - ETA: 0s - loss: 0.5157 - accuracy: 0.9062"
     ]
    },
    {
     "name": "stderr",
     "output_type": "stream",
     "text": [
      "2022-12-07 17:55:14.474955: I tensorflow/core/grappler/optimizers/custom_graph_optimizer_registry.cc:114] Plugin optimizer for device_type GPU is enabled.\n"
     ]
    },
    {
     "name": "stdout",
     "output_type": "stream",
     "text": [
      "2/2 [==============================] - 0s 178ms/step - loss: 0.4272 - accuracy: 0.9286\n"
     ]
    },
    {
     "data": {
      "text/plain": [
       "[0.42720136046409607, 0.9285714626312256]"
      ]
     },
     "execution_count": 18,
     "metadata": {},
     "output_type": "execute_result"
    }
   ],
   "source": [
    "model.evaluate(X_test, y_test)"
   ]
  },
  {
   "cell_type": "code",
   "execution_count": 19,
   "id": "07461255",
   "metadata": {},
   "outputs": [
    {
     "name": "stdout",
     "output_type": "stream",
     "text": [
      "2/2 [==============================] - 0s 11ms/step\n",
      "[0.99432266 0.09785163 0.01225815 0.01617168 0.00460641 0.6606197\n",
      " 0.293364   0.516016   0.9997477  0.9490996 ]\n"
     ]
    },
    {
     "name": "stderr",
     "output_type": "stream",
     "text": [
      "2022-12-07 17:59:46.297986: I tensorflow/core/grappler/optimizers/custom_graph_optimizer_registry.cc:114] Plugin optimizer for device_type GPU is enabled.\n"
     ]
    }
   ],
   "source": [
    "y_pred = model.predict(X_test).reshape(-1)\n",
    "print(y_pred[:10])"
   ]
  },
  {
   "cell_type": "code",
   "execution_count": 23,
   "id": "6373109c",
   "metadata": {},
   "outputs": [
    {
     "name": "stdout",
     "output_type": "stream",
     "text": [
      "[1. 0. 0. 0. 0. 1. 0. 1. 1. 1.]\n"
     ]
    }
   ],
   "source": [
    "y_pred = np.round(y_pred)\n",
    "print(y_pred[:10])"
   ]
  },
  {
   "cell_type": "code",
   "execution_count": 24,
   "id": "8a5cab14",
   "metadata": {},
   "outputs": [
    {
     "data": {
      "text/html": [
       "<div>\n",
       "<style scoped>\n",
       "    .dataframe tbody tr th:only-of-type {\n",
       "        vertical-align: middle;\n",
       "    }\n",
       "\n",
       "    .dataframe tbody tr th {\n",
       "        vertical-align: top;\n",
       "    }\n",
       "\n",
       "    .dataframe thead th {\n",
       "        text-align: right;\n",
       "    }\n",
       "</style>\n",
       "<table border=\"1\" class=\"dataframe\">\n",
       "  <thead>\n",
       "    <tr style=\"text-align: right;\">\n",
       "      <th></th>\n",
       "      <th>R</th>\n",
       "    </tr>\n",
       "  </thead>\n",
       "  <tbody>\n",
       "    <tr>\n",
       "      <th>11</th>\n",
       "      <td>1</td>\n",
       "    </tr>\n",
       "    <tr>\n",
       "      <th>128</th>\n",
       "      <td>0</td>\n",
       "    </tr>\n",
       "    <tr>\n",
       "      <th>158</th>\n",
       "      <td>0</td>\n",
       "    </tr>\n",
       "    <tr>\n",
       "      <th>98</th>\n",
       "      <td>0</td>\n",
       "    </tr>\n",
       "    <tr>\n",
       "      <th>131</th>\n",
       "      <td>0</td>\n",
       "    </tr>\n",
       "    <tr>\n",
       "      <th>22</th>\n",
       "      <td>1</td>\n",
       "    </tr>\n",
       "    <tr>\n",
       "      <th>155</th>\n",
       "      <td>0</td>\n",
       "    </tr>\n",
       "    <tr>\n",
       "      <th>2</th>\n",
       "      <td>1</td>\n",
       "    </tr>\n",
       "    <tr>\n",
       "      <th>24</th>\n",
       "      <td>1</td>\n",
       "    </tr>\n",
       "    <tr>\n",
       "      <th>46</th>\n",
       "      <td>1</td>\n",
       "    </tr>\n",
       "  </tbody>\n",
       "</table>\n",
       "</div>"
      ],
      "text/plain": [
       "     R\n",
       "11   1\n",
       "128  0\n",
       "158  0\n",
       "98   0\n",
       "131  0\n",
       "22   1\n",
       "155  0\n",
       "2    1\n",
       "24   1\n",
       "46   1"
      ]
     },
     "execution_count": 24,
     "metadata": {},
     "output_type": "execute_result"
    }
   ],
   "source": [
    "y_test[:10]"
   ]
  },
  {
   "cell_type": "code",
   "execution_count": 25,
   "id": "8ae06786",
   "metadata": {},
   "outputs": [
    {
     "name": "stdout",
     "output_type": "stream",
     "text": [
      "              precision    recall  f1-score   support\n",
      "\n",
      "           0       1.00      0.89      0.94        27\n",
      "           1       0.83      1.00      0.91        15\n",
      "\n",
      "    accuracy                           0.93        42\n",
      "   macro avg       0.92      0.94      0.93        42\n",
      "weighted avg       0.94      0.93      0.93        42\n",
      "\n"
     ]
    }
   ],
   "source": [
    "from sklearn.metrics import confusion_matrix, classification_report\n",
    "\n",
    "print(classification_report(y_test, y_pred))"
   ]
  },
  {
   "cell_type": "markdown",
   "id": "5b20b11c",
   "metadata": {},
   "source": [
    "Train data accuracy: 100\n",
    "\n",
    "Test data accuracy: 92\n",
    "\n",
    "OVERFITTED MODEL"
   ]
  },
  {
   "cell_type": "markdown",
   "id": "b315cf47",
   "metadata": {},
   "source": [
    "LETS IMPLEMENT DROPOUT LAYERS."
   ]
  },
  {
   "cell_type": "code",
   "execution_count": 28,
   "id": "5dcf63ac",
   "metadata": {},
   "outputs": [
    {
     "name": "stdout",
     "output_type": "stream",
     "text": [
      "Epoch 1/50\n",
      " 7/21 [=========>....................] - ETA: 0s - loss: 0.7059 - accuracy: 0.4464"
     ]
    },
    {
     "name": "stderr",
     "output_type": "stream",
     "text": [
      "2022-12-07 18:06:05.304673: I tensorflow/core/grappler/optimizers/custom_graph_optimizer_registry.cc:114] Plugin optimizer for device_type GPU is enabled.\n"
     ]
    },
    {
     "name": "stdout",
     "output_type": "stream",
     "text": [
      "21/21 [==============================] - 1s 11ms/step - loss: 0.6925 - accuracy: 0.5120\n",
      "Epoch 2/50\n",
      "21/21 [==============================] - 0s 7ms/step - loss: 0.6738 - accuracy: 0.6024\n",
      "Epoch 3/50\n",
      "21/21 [==============================] - 0s 7ms/step - loss: 0.6759 - accuracy: 0.6145\n",
      "Epoch 4/50\n",
      "21/21 [==============================] - 0s 7ms/step - loss: 0.6552 - accuracy: 0.6386\n",
      "Epoch 5/50\n",
      "21/21 [==============================] - 0s 8ms/step - loss: 0.6350 - accuracy: 0.6867\n",
      "Epoch 6/50\n",
      "21/21 [==============================] - 0s 7ms/step - loss: 0.6145 - accuracy: 0.7169\n",
      "Epoch 7/50\n",
      "21/21 [==============================] - 0s 7ms/step - loss: 0.5934 - accuracy: 0.7229\n",
      "Epoch 8/50\n",
      "21/21 [==============================] - 0s 7ms/step - loss: 0.5560 - accuracy: 0.7711\n",
      "Epoch 9/50\n",
      "21/21 [==============================] - 0s 7ms/step - loss: 0.5821 - accuracy: 0.6988\n",
      "Epoch 10/50\n",
      "21/21 [==============================] - 0s 7ms/step - loss: 0.5160 - accuracy: 0.7651\n",
      "Epoch 11/50\n",
      "21/21 [==============================] - 0s 8ms/step - loss: 0.4867 - accuracy: 0.7952\n",
      "Epoch 12/50\n",
      "21/21 [==============================] - 0s 7ms/step - loss: 0.4702 - accuracy: 0.7831\n",
      "Epoch 13/50\n",
      "21/21 [==============================] - 0s 8ms/step - loss: 0.4465 - accuracy: 0.7892\n",
      "Epoch 14/50\n",
      "21/21 [==============================] - 0s 7ms/step - loss: 0.4489 - accuracy: 0.8133\n",
      "Epoch 15/50\n",
      "21/21 [==============================] - 0s 7ms/step - loss: 0.4311 - accuracy: 0.7952\n",
      "Epoch 16/50\n",
      "21/21 [==============================] - 0s 7ms/step - loss: 0.4089 - accuracy: 0.8012\n",
      "Epoch 17/50\n",
      "21/21 [==============================] - 0s 7ms/step - loss: 0.4123 - accuracy: 0.8193\n",
      "Epoch 18/50\n",
      "21/21 [==============================] - 0s 7ms/step - loss: 0.4139 - accuracy: 0.7771\n",
      "Epoch 19/50\n",
      "21/21 [==============================] - 0s 7ms/step - loss: 0.3714 - accuracy: 0.8373\n",
      "Epoch 20/50\n",
      "21/21 [==============================] - 0s 7ms/step - loss: 0.3458 - accuracy: 0.8494\n",
      "Epoch 21/50\n",
      "21/21 [==============================] - 0s 7ms/step - loss: 0.3986 - accuracy: 0.8313\n",
      "Epoch 22/50\n",
      "21/21 [==============================] - 0s 7ms/step - loss: 0.3543 - accuracy: 0.8253\n",
      "Epoch 23/50\n",
      "21/21 [==============================] - 0s 7ms/step - loss: 0.3720 - accuracy: 0.8253\n",
      "Epoch 24/50\n",
      "21/21 [==============================] - 0s 6ms/step - loss: 0.3295 - accuracy: 0.8675\n",
      "Epoch 25/50\n",
      "21/21 [==============================] - 0s 7ms/step - loss: 0.3258 - accuracy: 0.8313\n",
      "Epoch 26/50\n",
      "21/21 [==============================] - 0s 7ms/step - loss: 0.3283 - accuracy: 0.8494\n",
      "Epoch 27/50\n",
      "21/21 [==============================] - 0s 6ms/step - loss: 0.3383 - accuracy: 0.8614\n",
      "Epoch 28/50\n",
      "21/21 [==============================] - 0s 7ms/step - loss: 0.3412 - accuracy: 0.8373\n",
      "Epoch 29/50\n",
      "21/21 [==============================] - 0s 6ms/step - loss: 0.3200 - accuracy: 0.8614\n",
      "Epoch 30/50\n",
      "21/21 [==============================] - 0s 7ms/step - loss: 0.3139 - accuracy: 0.8494\n",
      "Epoch 31/50\n",
      "21/21 [==============================] - 0s 7ms/step - loss: 0.3217 - accuracy: 0.8675\n",
      "Epoch 32/50\n",
      "21/21 [==============================] - 0s 7ms/step - loss: 0.3213 - accuracy: 0.8675\n",
      "Epoch 33/50\n",
      "21/21 [==============================] - 0s 7ms/step - loss: 0.3173 - accuracy: 0.8735\n",
      "Epoch 34/50\n",
      "21/21 [==============================] - 0s 7ms/step - loss: 0.3049 - accuracy: 0.8795\n",
      "Epoch 35/50\n",
      "21/21 [==============================] - 0s 7ms/step - loss: 0.3066 - accuracy: 0.8916\n",
      "Epoch 36/50\n",
      "21/21 [==============================] - 0s 7ms/step - loss: 0.2667 - accuracy: 0.9096\n",
      "Epoch 37/50\n",
      "21/21 [==============================] - 0s 7ms/step - loss: 0.3095 - accuracy: 0.9036\n",
      "Epoch 38/50\n",
      "21/21 [==============================] - 0s 6ms/step - loss: 0.2511 - accuracy: 0.9157\n",
      "Epoch 39/50\n",
      "21/21 [==============================] - 0s 7ms/step - loss: 0.2656 - accuracy: 0.8735\n",
      "Epoch 40/50\n",
      "21/21 [==============================] - 0s 6ms/step - loss: 0.2542 - accuracy: 0.9036\n",
      "Epoch 41/50\n",
      "21/21 [==============================] - 0s 7ms/step - loss: 0.2727 - accuracy: 0.8795\n",
      "Epoch 42/50\n",
      "21/21 [==============================] - 0s 7ms/step - loss: 0.2513 - accuracy: 0.8976\n",
      "Epoch 43/50\n",
      "21/21 [==============================] - 0s 7ms/step - loss: 0.2282 - accuracy: 0.9277\n",
      "Epoch 44/50\n",
      "21/21 [==============================] - 0s 7ms/step - loss: 0.2164 - accuracy: 0.9157\n",
      "Epoch 45/50\n",
      "21/21 [==============================] - 0s 7ms/step - loss: 0.2437 - accuracy: 0.9096\n",
      "Epoch 46/50\n",
      "21/21 [==============================] - 0s 7ms/step - loss: 0.2204 - accuracy: 0.9036\n",
      "Epoch 47/50\n",
      "21/21 [==============================] - 0s 7ms/step - loss: 0.2182 - accuracy: 0.9096\n",
      "Epoch 48/50\n",
      "21/21 [==============================] - 0s 7ms/step - loss: 0.1955 - accuracy: 0.9337\n",
      "Epoch 49/50\n",
      "21/21 [==============================] - 0s 7ms/step - loss: 0.2131 - accuracy: 0.9096\n",
      "Epoch 50/50\n",
      "21/21 [==============================] - 0s 7ms/step - loss: 0.1917 - accuracy: 0.9337\n"
     ]
    },
    {
     "data": {
      "text/plain": [
       "<keras.callbacks.History at 0x2807d2d60>"
      ]
     },
     "execution_count": 28,
     "metadata": {},
     "output_type": "execute_result"
    }
   ],
   "source": [
    "model = keras.Sequential([\n",
    "    keras.layers.Dense(60, input_dim = 60, activation = 'relu'),\n",
    "    keras.layers.Dropout(0.40),\n",
    "    keras.layers.Dense(30, activation = 'relu'),\n",
    "    keras.layers.Dropout(0.30),\n",
    "    keras.layers.Dense(15, activation = 'relu'),\n",
    "    keras.layers.Dropout(0.20),\n",
    "    keras.layers.Dense(1, activation = 'sigmoid'),\n",
    "])\n",
    "\n",
    "model.compile(loss='binary_crossentropy', optimizer='adam', metrics=['accuracy'])\n",
    "\n",
    "model.fit(X_train, y_train, epochs = 50, batch_size=8)"
   ]
  },
  {
   "cell_type": "code",
   "execution_count": 29,
   "id": "4ad8078a",
   "metadata": {},
   "outputs": [
    {
     "name": "stdout",
     "output_type": "stream",
     "text": [
      "2/2 [==============================] - 0s 39ms/step - loss: 0.3652 - accuracy: 0.8571\n"
     ]
    },
    {
     "name": "stderr",
     "output_type": "stream",
     "text": [
      "2022-12-07 18:06:16.376422: I tensorflow/core/grappler/optimizers/custom_graph_optimizer_registry.cc:114] Plugin optimizer for device_type GPU is enabled.\n"
     ]
    },
    {
     "data": {
      "text/plain": [
       "[0.3651561439037323, 0.8571428656578064]"
      ]
     },
     "execution_count": 29,
     "metadata": {},
     "output_type": "execute_result"
    }
   ],
   "source": [
    "model.evaluate(X_test, y_test)"
   ]
  },
  {
   "cell_type": "markdown",
   "id": "763edaa5",
   "metadata": {},
   "source": [
    "CLEARLY DROPOUT TRIES TO REDUCE THE DIFFERENCE IN THE TEST AND TRAIN ACCURACY."
   ]
  },
  {
   "cell_type": "code",
   "execution_count": 30,
   "id": "2a2233f9",
   "metadata": {},
   "outputs": [
    {
     "name": "stdout",
     "output_type": "stream",
     "text": [
      "2/2 [==============================] - 0s 14ms/step\n"
     ]
    },
    {
     "name": "stderr",
     "output_type": "stream",
     "text": [
      "2022-12-07 18:08:14.589610: I tensorflow/core/grappler/optimizers/custom_graph_optimizer_registry.cc:114] Plugin optimizer for device_type GPU is enabled.\n"
     ]
    }
   ],
   "source": [
    "y_pred = model.predict(X_test).reshape(-1)"
   ]
  },
  {
   "cell_type": "code",
   "execution_count": 31,
   "id": "9f7403a5",
   "metadata": {},
   "outputs": [],
   "source": [
    "y_pred = np.round(y_pred)"
   ]
  },
  {
   "cell_type": "code",
   "execution_count": 32,
   "id": "e7fc9235",
   "metadata": {},
   "outputs": [
    {
     "name": "stdout",
     "output_type": "stream",
     "text": [
      "              precision    recall  f1-score   support\n",
      "\n",
      "           0       0.92      0.85      0.88        27\n",
      "           1       0.76      0.87      0.81        15\n",
      "\n",
      "    accuracy                           0.86        42\n",
      "   macro avg       0.84      0.86      0.85        42\n",
      "weighted avg       0.86      0.86      0.86        42\n",
      "\n"
     ]
    }
   ],
   "source": [
    "from sklearn.metrics import confusion_matrix, classification_report\n",
    "\n",
    "print(classification_report(y_test, y_pred))"
   ]
  },
  {
   "cell_type": "markdown",
   "id": "2560bf33",
   "metadata": {},
   "source": [
    "DROPOUT IS VERY MUCH USEFUL IN CNN AS WE HAVE MILLIONS OF NEURONS TO TRAIN OVER THERE."
   ]
  }
 ],
 "metadata": {
  "kernelspec": {
   "display_name": "Python 3 (ipykernel)",
   "language": "python",
   "name": "python3"
  },
  "language_info": {
   "codemirror_mode": {
    "name": "ipython",
    "version": 3
   },
   "file_extension": ".py",
   "mimetype": "text/x-python",
   "name": "python",
   "nbconvert_exporter": "python",
   "pygments_lexer": "ipython3",
   "version": "3.8.14"
  }
 },
 "nbformat": 4,
 "nbformat_minor": 5
}
