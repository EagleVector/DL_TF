{
 "cells": [
  {
   "cell_type": "markdown",
   "id": "f9f8601f",
   "metadata": {},
   "source": [
    "## IMAGE CLASSIFICATION\n",
    "\n",
    "CLASSIFY THE IMAGE ACCORDING TO THE PROVIDED CLASS LABEL.\n",
    "\n",
    "USES CNN AND DROPOUTS TO PERFORM THE TRAINING\n",
    "\n",
    "## OBJECT DETECTION\n",
    "\n",
    "IMAGE CLASSIFICATION + LOCALIZATION\n",
    "\n",
    "CONCEPT OF BOUNDING BOX COMES INTO PICTURE OVER HERE\n",
    "\n",
    "WE FIRST TRY TO CLASSIFY THE IMAGE AND DETECT WHETHER IT IS PRESENT OR NOT. \n",
    "\n",
    "AFTER IDENTIFYING WE LOCALIZE IT AND CREATE APPROPRIATE BOUNDING BOXES.\n",
    "\n",
    "## EVOLUTION OF OBJECT DETECTION:\n",
    "\n",
    "SLIDING WINDOW OBJECT DETECTION ---> RCNN ----> FAST RCNN ----> FASTER RCNN ----> `YOLO`\n",
    "\n",
    "## IMAGE SEGMENTATION\n",
    "\n",
    "CLASSIFY THE OBJECTS INSIDE AN IMAGE AS A COMPLETE ONE PIXEL"
   ]
  },
  {
   "cell_type": "markdown",
   "id": "c99eaa58",
   "metadata": {},
   "source": [
    "## YOLO "
   ]
  },
  {
   "cell_type": "markdown",
   "id": "fdec6b47",
   "metadata": {},
   "source": [
    "ITS THE BEST FRAMEWORK FOR OBJECT DETECTION. IT IS VERY FAST AS IT DIVIDES THE ENTIRE IMAGE INTO 4 * 4 OR N * N CELLS AND THEN CREATES A VECTOR INFO. INSIDE THE MATRIX WE HAVE Pc(Probability of occurence of any of the class label) Cx/Cy (Centroid Location of object inside Bounding Box) Bx/By (Bounding Box Dimension) AND C1/C2/..../Cn(Class's centroid which is present inside Bounding Box)\n",
    "\n",
    "CHALLENGES\n",
    "\n",
    "IOU : INTERSECTION OVER UNION\n",
    "\n",
    "SELECT WHICH BOUNDING BOX IS THE BEST\n",
    "\n",
    "RATIO OF INTERSECTED AREA B/W BOUNDING BOXES TO UNION OF TOTAL AREA \n",
    "\n",
    "ANCHOR BOX CONCEPT\n",
    "\n",
    "THIS CASE ARISES WHEN WE HAVE 2 OR MORE CENTRIODS PRESENT INSIDE A SINGLE BOUNDING BOX.\n",
    "\n",
    "IN ANCHOR BOX, WE HAVE 2 OR MORE VECTORS STACKED TOGETHER"
   ]
  }
 ],
 "metadata": {
  "kernelspec": {
   "display_name": "Python 3 (ipykernel)",
   "language": "python",
   "name": "python3"
  },
  "language_info": {
   "codemirror_mode": {
    "name": "ipython",
    "version": 3
   },
   "file_extension": ".py",
   "mimetype": "text/x-python",
   "name": "python",
   "nbconvert_exporter": "python",
   "pygments_lexer": "ipython3",
   "version": "3.8.14"
  }
 },
 "nbformat": 4,
 "nbformat_minor": 5
}
